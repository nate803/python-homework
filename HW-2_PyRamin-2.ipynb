{
 "cells": [
  {
   "cell_type": "markdown",
   "metadata": {},
   "source": [
    "# Unit 2, HW-2, Problem #2 - PyRamen-2\n",
    "\n",
    "## Author: Nate Walker"
   ]
  },
  {
   "cell_type": "code",
   "execution_count": null,
   "metadata": {
    "scrolled": true
   },
   "outputs": [],
   "source": [
    "# Import the pathlib and csv libary\n",
    "from pathlib import Path\n",
    "import csv\n",
    "\n",
    "# Set the file paths\n",
    "menu_data = Path(\"C:/FinTech/menu_data.csv\")\n",
    "sales_data = Path(\"C:/FinTech/menu_data.csv\")\n",
    "\n",
    "\n",
    "\n",
    "# Initialise Lists:\n",
    "menu_list =[]     # empty menu list\n",
    "sales_list =[]    # empty sales list\n",
    "\n",
    "# Initalize Variables:\n",
    "count=0\n",
    "revenue = 0\n",
    "cogs = 0\n",
    "profit = 0\n",
    "line_num =0\n",
    "\n",
    "# Open the input path as a file object (x2)\n",
    "with open(menu_data, 'r') as csvfile:\n",
    "\n",
    "    # Print the datatype of the file object\n",
    "    print(type(csvfile))\n",
    "\n",
    "    # Pass in the csv file to the csv.reader() function\n",
    "    # (with ',' as the delmiter/separator) and return the csvreader object\n",
    "    csvreader = csv.reader(csvfile, delimiter=',')\n",
    "    # Print the datatype of the csvreader\n",
    "    print(type(csvreader))\n",
    "\n",
    "    # Go to the next row from the start of the file\n",
    "    # (which is often the first row/header) and iterate line_num by 1\n",
    "    header = next(csvreader)\n",
    "    line_num += 1\n",
    "    # Print the header\n",
    "    print(f\"{header} <---- HEADER\")\n",
    "\n",
    "    \n",
    "    # Read each row of data after the header\n",
    "    for row in csvreader:\n",
    "          menu = row[0:33]\n",
    "          menu_list.append(menu)\n",
    "print(menu_list)                 # Check the menu_list\n",
    "          \n",
    "\n",
    "\n",
    "    \n"
   ]
  },
  {
   "cell_type": "code",
   "execution_count": null,
   "metadata": {
    "scrolled": false
   },
   "outputs": [],
   "source": [
    "# Read in the Sales Data Set\n",
    "# Import the pathlib and csv libary\n",
    "from pathlib import Path\n",
    "import csv\n",
    "\n",
    "# Set the file paths\n",
    "# menu_data = Path(\"C:/FinTech/menu_data.csv\")\n",
    "sales_data = Path(\"C:/FinTech/menu_data.csv\")\n",
    "\n",
    "\n",
    "# Open the input path as a file object (x2)\n",
    "with open(sales_data,'r') as csvfile:\n",
    "\n",
    "    # Print the datatype of the file object\n",
    "    print(type(csvfile))\n",
    "\n",
    "    # Pass in the csv file to the csv.reader() function\n",
    "    # (with ',' as the delmiter/separator) and return the csvreader object\n",
    "    csvreader = csv.reader(csvfile, delimiter=',')\n",
    "    # Print the datatype of the csvreader\n",
    "    print(type(csvreader))\n",
    "\n",
    "    # Go to the next row from the start of the file\n",
    "    # (which is often the first row/header) and iterate line_num by 1\n",
    "    header = next(csvreader)\n",
    "    line_num += 1\n",
    "    # Print the header\n",
    "    print(f\"{header} <---- HEADER\")\n",
    "\n",
    "    \n",
    "    # Read each row of data after the header\n",
    "    for row in csvreader:\n",
    "          count +=1\n",
    "          sale = row[0:34]\n",
    "          sales_list.append(sale)    # Append the sales data into the sales list\n",
    "print(sales_list)      # Check the sales list\n",
    "\n",
    "\n",
    "#########################\n"
   ]
  },
  {
   "cell_type": "code",
   "execution_count": null,
   "metadata": {},
   "outputs": [],
   "source": [
    "\n"
   ]
  }
 ],
 "metadata": {
  "kernelspec": {
   "display_name": "Python 3",
   "language": "python",
   "name": "python3"
  },
  "language_info": {
   "codemirror_mode": {
    "name": "ipython",
    "version": 3
   },
   "file_extension": ".py",
   "mimetype": "text/x-python",
   "name": "python",
   "nbconvert_exporter": "python",
   "pygments_lexer": "ipython3",
   "version": "3.7.1"
  }
 },
 "nbformat": 4,
 "nbformat_minor": 2
}
