{
 "cells": [
  {
   "cell_type": "markdown",
   "metadata": {},
   "source": [
    "# Unit 2 HW-2: Problem #1: PyBank"
   ]
  },
  {
   "cell_type": "markdown",
   "metadata": {},
   "source": [
    "## Author: Nate Walker"
   ]
  },
  {
   "cell_type": "markdown",
   "metadata": {},
   "source": [
    "## HW Problem 1: PyBank"
   ]
  },
  {
   "cell_type": "markdown",
   "metadata": {},
   "source": [
    "### Use the PyBank Dataset to Analyze the Records"
   ]
  },
  {
   "cell_type": "code",
   "execution_count": null,
   "metadata": {
    "scrolled": true
   },
   "outputs": [],
   "source": [
    "## Read in the PyBank Dataset\n",
    "# Import the pandas library\n",
    "# Read the data in as a data frame\n",
    "\n",
    "import pandas as pd\n",
    "pyBank_df = pd.read_csv('C:/FinTech/budget_data.csv')  # Read the dataset in as a pandas data frame\n",
    "pyBank_df.head()                                       # print the first 5 rows of the data frame\n",
    "pyBank_df.sample()                                     # print a 5 row sample of the data frame\n",
    "pyBank_df.tail()                                       # print the borrom 5 rows of the data frame\n",
    "#print(pyBank_df)                                      # print the pyBank data frame"
   ]
  },
  {
   "cell_type": "code",
   "execution_count": null,
   "metadata": {},
   "outputs": [],
   "source": [
    "## Find the Total Months included in the pyBank Dataset\n",
    "print(len(pyBank_df))"
   ]
  },
  {
   "cell_type": "code",
   "execution_count": null,
   "metadata": {},
   "outputs": [],
   "source": [
    "## PyBank Summary Statistics\n",
    "print(\"------------Summary Statistics Report--------------\")\n",
    "totRecords = len(pyBank_df)                    # Count of the Total number of records in the data frame\n",
    "print('Total Records:', totRecords, end=\"\")    # Print the total number of records in the data frame\n",
    "print()\n",
    "avgProfit = round(pyBank_df.mean(),2)          # Mean function of the pyBank data frame\n",
    "print('Average Profit:', avgProfit, end=\"\")    # Print the average profit on the same line w/end=\"\"\n",
    "print()\n",
    "maxProfit=pyBank_df.max()                      # Maximum function of the pyBank data frame\n",
    "print('Maximum Profit:',maxProfit, end=\"\")     # Print the Maximum profit on the same line w/end=\"\"\n",
    "print()\n",
    "minProfit = pyBank_df.min()                    # Minimum function of the pyBank data frame\n",
    "print('Minimum Profit:',minProfit, end=\"\")     # Print the Minimum profit/loss on the same line\n",
    "print()\n",
    "totProfit = pyBank_df.sum()                    # Sum function of the pyBank data frme\n",
    "print('Total Profit:', totProfit, end=\"\")      # Print the Total profit on the same line\n",
    "print()\n",
    "print(\"-------------- End Report ------------------------------\")\n",
    "\n"
   ]
  },
  {
   "cell_type": "markdown",
   "metadata": {},
   "source": [
    "############## SOLUTION #2 ############################"
   ]
  },
  {
   "cell_type": "code",
   "execution_count": null,
   "metadata": {},
   "outputs": [],
   "source": [
    "# Import the pathlib and csv libary\n",
    "from pathlib import Path\n",
    "import csv\n",
    "\n",
    "# Set the file paths\n",
    "budget_data = Path(\"C:/FinTech/budget_data.csv\")\n",
    "\n",
    "# Initalize Variables:\n",
    "count=0\n",
    "totProfit_loss = 0\n",
    "maxProfit=0\n",
    "minProfit = 0\n",
    "avgProfit = 0\n",
    "\n",
    "# Open the input path as a file object\n",
    "with open(budget_data, 'r') as csvfile:\n",
    "      csvreader = csv.reader(csvfile, delimiter=\",\")\n",
    "\n",
    "    # Iterate through the data and search for the number the user inputted. Remember to skip the header of the CSV.\n",
    "      csv_header = next(csvreader)\n",
    "\n",
    "      for row in csvreader:\n",
    "        # Print the rows of column 1, Profit/Loss\n",
    "        #print(row[1])\n",
    "        count = count+1\n",
    "        totProfit_loss = int(row[1]) + totProfit_loss\n",
    "        \n",
    "        if int(row[1]) < 0:\n",
    "            minProfit = int(row[1])\n",
    "        elif int(row[1]) > maxProfit:\n",
    "            maxProfit = int(row[1])\n",
    "        \n",
    "print (f\"Total\",totProfit_loss)\n",
    "print (f\"Total Months:\",count)\n",
    "print (f\"Gratest Decrease:\", minProfit)\n",
    "print (f\"Greatest Increase:\", maxProfit)\n",
    "print(f\"Avgerage Profit-Loss:$\",round(totProfit_loss/count))\n"
   ]
  },
  {
   "cell_type": "code",
   "execution_count": null,
   "metadata": {},
   "outputs": [],
   "source": []
  }
 ],
 "metadata": {
  "kernelspec": {
   "display_name": "Python 3",
   "language": "python",
   "name": "python3"
  },
  "language_info": {
   "codemirror_mode": {
    "name": "ipython",
    "version": 3
   },
   "file_extension": ".py",
   "mimetype": "text/x-python",
   "name": "python",
   "nbconvert_exporter": "python",
   "pygments_lexer": "ipython3",
   "version": "3.7.1"
  }
 },
 "nbformat": 4,
 "nbformat_minor": 2
}
